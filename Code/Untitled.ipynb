{
 "cells": [
  {
   "cell_type": "code",
   "execution_count": 1,
   "id": "50401b32-b2cf-4548-aaa6-bf1771d10d87",
   "metadata": {},
   "outputs": [
    {
     "ename": "SyntaxError",
     "evalue": "invalid syntax (3777617537.py, line 4)",
     "output_type": "error",
     "traceback": [
      "\u001b[1;36m  Cell \u001b[1;32mIn[1], line 4\u001b[1;36m\u001b[0m\n\u001b[1;33m    fromsklearn.ensemble import RandomForestRegressorsklearn.neighbors import KNeighborsRegressorfrom\u001b[0m\n\u001b[1;37m                         ^\u001b[0m\n\u001b[1;31mSyntaxError\u001b[0m\u001b[1;31m:\u001b[0m invalid syntax\n"
     ]
    }
   ],
   "source": [
    "%matplotlib inline\n",
    "#this library is for loading data and manipulating itimport pandas as pd\n",
    "# import models\n",
    "from sklearn.ensemble import RandomForestRegressorsklearn.neighbors import KNeighborsRegressorfrom\n",
    "from sklearn.sv import SVR\n",
    "from sklearn,neural network import MPRegressor\n",
    "# get a helper function for splitting the dataset into training and test setsfrom sklearn.model selection import train test split\n",
    "#get a function for measuring test errorfrom sklearn,.metrics import mean absolute error\n",
    "# for manipilating arrays\n",
    "import numpy as np\n",
    "# fo visualising data\n",
    "import matplotlib.pyplot as plt\n"
   ]
  },
  {
   "cell_type": "code",
   "execution_count": null,
   "id": "c45985fd-1819-4325-9c00-88e947cf5345",
   "metadata": {},
   "outputs": [],
   "source": []
  },
  {
   "cell_type": "code",
   "execution_count": null,
   "id": "92342a9a-d91d-4207-bfc4-19a7597d231b",
   "metadata": {},
   "outputs": [],
   "source": [
    "# load and display the data\n",
    "datapd.read csv(\"2800data2.csv\")\n",
    "data"
   ]
  }
 ],
 "metadata": {
  "kernelspec": {
   "display_name": "Python 3 (ipykernel)",
   "language": "python",
   "name": "python3"
  },
  "language_info": {
   "codemirror_mode": {
    "name": "ipython",
    "version": 3
   },
   "file_extension": ".py",
   "mimetype": "text/x-python",
   "name": "python",
   "nbconvert_exporter": "python",
   "pygments_lexer": "ipython3",
   "version": "3.12.4"
  }
 },
 "nbformat": 4,
 "nbformat_minor": 5
}
